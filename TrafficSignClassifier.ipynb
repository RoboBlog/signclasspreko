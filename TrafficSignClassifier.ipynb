{
 "cells": [
  {
   "cell_type": "markdown",
   "metadata": {},
   "source": [
    "# Model for Traffic Sign Classifier\n",
    "## Step 0: Load all modules that are necessary ##"
   ]
  },
  {
   "cell_type": "code",
   "execution_count": 16,
   "metadata": {
    "scrolled": true
   },
   "outputs": [],
   "source": [
    "####### Module to retrieve pickled data######\n",
    "from sklearn.utils import shuffle\n",
    "from PreProcessing import load_data\n",
    "########## Plotting Data ########\n",
    "import matplotlib.pyplot as plt\n",
    "import matplotlib.gridspec as gridspec\n",
    "from IPython.display import display, HTML\n",
    "from tqdm import trange\n",
    "import time\n",
    "from datetime import datetime\n",
    "import cv2\n",
    "\n",
    "####### Mathematical & Array Operations #########\n",
    "import numpy as np\n",
    "import math\n",
    "from random import randint\n",
    "from collections import namedtuple\n",
    "import itertools\n",
    "import pandas as pd\n",
    "\n",
    "# Tensor FLow for Neural Network Frameworks\n",
    "import tensorflow as tf\n",
    "from tensorflow.contrib.layers import flatten\n",
    "from tensorflow.contrib.layers import apply_regularization\n",
    "from tensorflow.contrib.layers import l1_regularizer\n",
    "from tensorflow.contrib.layers import xavier_initializer\n",
    "# from spatial_transformer import transformer\n",
    "from stn import spatial_transformer_network as transformer\n",
    "from sklearn.metrics import confusion_matrix\n",
    "\n",
    "%matplotlib inline"
   ]
  },
  {
   "cell_type": "markdown",
   "metadata": {},
   "source": [
    "----\n",
    "\n",
    "## Step 2: Design and Test a Model Architecture\n",
    "\n",
    "Design and implement a deep learning model that learns to recognize traffic signs. Train and test your model on the [German Traffic Sign Dataset](http://benchmark.ini.rub.de/?section=gtsrb&subsection=dataset).\n",
    "\n",
    "There are various aspects to consider when thinking about this problem:\n",
    "\n",
    "- Neural network architecture\n",
    "- Play around preprocessing techniques (normalization, rgb to grayscale, etc)\n",
    "- Number of examples per label (some have more than others).\n",
    "- Generate fake data.\n",
    "\n",
    "Here is an example of a [published baseline model on this problem](http://yann.lecun.com/exdb/publis/pdf/sermanet-ijcnn-11.pdf). It's not required to be familiar with the approach used in the paper but, it's good practice to try to read papers like these.\n",
    "\n",
    "**NOTE:** The LeNet-5 implementation shown in the [classroom](https://classroom.udacity.com/nanodegrees/nd013/parts/fbf77062-5703-404e-b60c-95b78b2f3f9e/modules/6df7ae49-c61c-4bb2-a23e-6527e69209ec/lessons/601ae704-1035-4287-8b11-e2c2716217ad/concepts/d4aca031-508f-4e0b-b493-e7b706120f81) at the end of the CNN lesson is a solid starting point. You'll have to change the number of classes and possibly the preprocessing, but aside from that it's plug and play!"
   ]
  },
  {
   "cell_type": "code",
   "execution_count": 17,
   "metadata": {},
   "outputs": [],
   "source": [
    "def variable_summaries(var):\n",
    "    \"\"\"Attach a lot of summaries to a Tensor (for TensorBoard visualization).\"\"\"\n",
    "    with tf.name_scope('summaries'):\n",
    "        mean = tf.reduce_mean(var)\n",
    "        tf.summary.scalar('mean', mean)\n",
    "        with tf.name_scope('stddev'):\n",
    "            stddev = tf.sqrt(tf.reduce_mean(tf.square(var - mean)))\n",
    "        tf.summary.scalar('stddev', stddev)\n",
    "        tf.summary.scalar('max', tf.reduce_max(var))\n",
    "        tf.summary.scalar('min', tf.reduce_min(var))\n",
    "        tf.summary.histogram('histogram', var)\n",
    "\n",
    "tf.reset_default_graph()\n",
    "########## Graph Inputs #########################\n",
    "x = tf.placeholder(tf.float32, (None, 32, 32, 3))\n",
    "y = tf.placeholder(tf.int64, (None))\n",
    "num_classes = 43\n",
    "reg_fac = tf.placeholder(tf.float32, None)\n",
    "rate = tf.placeholder(tf.float32, None)\n",
    "is_training = tf.placeholder(tf.bool, None)"
   ]
  },
  {
   "cell_type": "markdown",
   "metadata": {},
   "source": [
    "### Basic Elements of the VGG Network\n",
    "- ** Batch Normalization Layer ** For faster and better training \n",
    "- **Param Relu** For solving Dead Linear Rectifier issue during training\n",
    "- **Convolution Layer** With Parametric Relay Activation - Weights and Biases Initialization - Xavier Scheme\n",
    "- **Fully Connected Layer** With Fully Connected Dense Layers - Weights and Biases Initialization - Xavier Scheme\n",
    "- ** Pooling Layer** Max Pool 2D Operation"
   ]
  },
  {
   "cell_type": "code",
   "execution_count": 18,
   "metadata": {},
   "outputs": [],
   "source": [
    "############################# Batch Normalization Layer ##################\n",
    "def batch_norm(input_, name, n_out, phase_train):\n",
    "    with tf.variable_scope(name + 'bn'):\n",
    "        beta = tf.Variable(tf.constant(\n",
    "            0.0, shape=[n_out]), name=name + 'beta', trainable=True)\n",
    "        gamma = tf.Variable(tf.constant(\n",
    "            1.0, shape=[n_out]), name=name + 'gamma', trainable=True)\n",
    "        if len(input_.get_shape().as_list()) > 3:\n",
    "            batch_mean, batch_var = tf.nn.moments(\n",
    "                input_, [0, 1, 2], name=name + 'moments')\n",
    "        else:\n",
    "            batch_mean, batch_var = tf.nn.moments(\n",
    "                input_, [0, 1], name=name + 'moments')\n",
    "        ema = tf.train.ExponentialMovingAverage(decay=0.5)\n",
    "\n",
    "        def mean_var_with_update():\n",
    "            ema_apply_op = ema.apply([batch_mean, batch_var])\n",
    "            with tf.control_dependencies([ema_apply_op]):\n",
    "                return tf.identity(batch_mean), tf.identity(batch_var)\n",
    "\n",
    "        mean, var = tf.cond(phase_train, mean_var_with_update, lambda: (\n",
    "            ema.average(batch_mean), ema.average(batch_var)))\n",
    "        normed = tf.nn.batch_normalization(\n",
    "            input_, mean, var, beta, gamma, 1e-3)\n",
    "\n",
    "    variable_summaries(beta)\n",
    "    variable_summaries(gamma)\n",
    "    return normed\n",
    "\n",
    "############################## Parametric ReLU Activation  Layer #########\n",
    "\n",
    "\n",
    "def parametric_relu(input_, name):\n",
    "    alpha = tf.get_variable(name=name + '_alpha', shape=input_.get_shape(\n",
    "    )[-1], initializer=tf.random_uniform_initializer(minval=0.1, maxval=0.3), dtype=tf.float32)\n",
    "    pos = tf.nn.relu(input_)\n",
    "    tf.summary.histogram(name, pos)\n",
    "    neg = alpha * (input_ - abs(input_)) * 0.5\n",
    "    return pos + neg\n",
    "\n",
    "\n",
    "# Convolutional Layer with activation and batc\n",
    "def conv(input_, name, k1, k2, n_o, reg_fac, is_tr, s1=1, s2=1, is_act=True, is_bn=True, padding='SAME'):\n",
    "\n",
    "    n_i = input_.get_shape()[-1].value\n",
    "    with tf.variable_scope(name):\n",
    "        weights = tf.get_variable(name + \"weights\", [k1, k2, n_i, n_o], tf.float32, xavier_initializer(\n",
    "        ), regularizer=tf.contrib.layers.l2_regularizer(reg_fac))\n",
    "        biases = tf.get_variable(name +\n",
    "                                 \"bias\", [n_o], tf.float32, tf.constant_initializer(0.0))\n",
    "        conv = tf.nn.conv2d(input_, weights, (1, s1, s2, 1), padding=padding)\n",
    "        bn = batch_norm(conv, name, n_o, is_tr) if is_bn else conv\n",
    "        activation = parametric_relu(tf.nn.bias_add(\n",
    "            bn, biases), name + \"activation\") if is_act else tf.nn.bias_add(bn, biases)\n",
    "        variable_summaries(weights)\n",
    "        variable_summaries(biases)\n",
    "    return activation\n",
    "\n",
    "# Fully connected Layer with activation and ba\n",
    "\n",
    "\n",
    "def fc(input_, name, n_o, reg_fac, is_tr, p_fc, is_act=True, is_bn=True):\n",
    "    n_i = input_.get_shape()[-1].value\n",
    "    with tf.variable_scope(name):\n",
    "        weights = tf.get_variable(name + \"weights\", [n_i, n_o], tf.float32, xavier_initializer(\n",
    "        ),  regularizer=tf.contrib.layers.l2_regularizer(reg_fac))\n",
    "        biases = tf.get_variable(\n",
    "            name + \"bias\", [n_o], tf.float32, tf.constant_initializer(0.0))\n",
    "        bn = tf.nn.bias_add(tf.matmul(input_, weights), biases)\n",
    "        activation = batch_norm(bn, name, n_o, is_tr) if is_bn else bn\n",
    "        logits = parametric_relu(\n",
    "            activation, name + \"activation\") if is_act else activation\n",
    "        \n",
    "        variable_summaries(weights)\n",
    "        variable_summaries(biases)\n",
    "\n",
    "    return tf.cond(is_tr, lambda: tf.nn.dropout(logits, keep_prob=p_fc), lambda: logits)\n",
    "\n",
    "############################# Max Pooling Layer with activation ##########\n",
    "\n",
    "\n",
    "def pool(input_, name, k1, k2, s1=2, s2=2):\n",
    "    return tf.nn.max_pool(input_, ksize=[1, k1, k2, 1], strides=[1, s1, s2, 1], padding='VALID', name=name)"
   ]
  },
  {
   "cell_type": "markdown",
   "metadata": {},
   "source": [
    "## Spatial Transformer Layer :\n",
    "The spatial transformation layer consists of a localization layer and an affine transformation layer\n",
    "\n",
    "### Localization layer\n",
    "* 5x5  Convolution Filter \n",
    "* 3x3 Convolution Filter \n",
    "* 1x1 Convolution Filter \n",
    "* 128 Dense Layer \n",
    "* 64 Dense Layer \n",
    "* 6 for Identity Transform \n",
    "\n",
    "### Affine Transformation "
   ]
  },
  {
   "cell_type": "code",
   "execution_count": 19,
   "metadata": {},
   "outputs": [],
   "source": [
    "############################# Localization Layer for Spatial Transformer L\n",
    "def localization_net(input_, name, is_tr, reg_fac):\n",
    "    # Identity transformation\n",
    "    initial = np.array([[1., 0, 0], [0, 1., 0]])\n",
    "    initial = initial.astype('float32')\n",
    "    initial = initial.flatten()\n",
    "    # Weight and Bias containing the identity transformation\n",
    "    W = tf.get_variable('loc_weights', [64, 6], tf.float32, xavier_initializer(\n",
    "    ), regularizer=tf.contrib.layers.l2_regularizer(reg_fac))\n",
    "    b = tf.Variable(initial_value=initial, name='loc_bias')\n",
    "\n",
    "    ############ Localization Network for the Spatial transformer network ####\n",
    "    ##################### 7x7x16 Conv -> 2x2 Max pooling ###################\n",
    "    locnet = conv(input_, name=\"locnet_conv1\", k1=3, k2=3, n_o=16,\n",
    "                  reg_fac=reg_fac, is_tr=is_tr, padding='SAME')\n",
    "    locnet = pool(locnet, name=\"locnet_pool1\", k1=2, k2=2)\n",
    "\n",
    "    ###################### 5x5x32 Conv -> 2x2 Max pooling ###################\n",
    "    locnet = conv(locnet, name=\"locnet_conv2\", k1=3, k2=3, n_o=32,\n",
    "                  reg_fac=reg_fac, is_tr=is_tr, padding='SAME')\n",
    "    locnet = pool(locnet, name=\"locnet_pool2\", k1=2, k2=2)\n",
    "\n",
    "    ###################### 3x3x64 Conv -> 2x2 Max pooling ####################\n",
    "    locnet = conv(locnet, name=\"locnet_conv3\", k1=3, k2=3, n_o=64,\n",
    "                  reg_fac=reg_fac, is_tr=is_tr, padding='SAME')\n",
    "    locnet = pool(locnet, name=\"locnet_pool3\", k1=2, k2=2)\n",
    "    \n",
    "    ###################### 3x3x64 Conv -> 2x2 Max pooling ####################\n",
    "    locnet = conv(locnet, name=\"locnet_conv4\", k1=3, k2=3, n_o=128,\n",
    "                  reg_fac=reg_fac, is_tr=is_tr, padding='SAME')\n",
    "    locnet = pool(locnet, name=\"locnet_pool4\", k1=2, k2=2)\n",
    "\n",
    "    ####################### Fully Connected Layers ###########################\n",
    "    locnet_fc0 = flatten(locnet)\n",
    "    locnet_fc1 = fc(locnet_fc0, name=\"locnet_fc1\", n_o=128,\n",
    "                    reg_fac=reg_fac, is_tr=is_tr, p_fc=.50)\n",
    "    locnet_fc2 = fc(locnet_fc1, name=\"locnet_fc2\", n_o=64,\n",
    "                    reg_fac=reg_fac, is_tr=is_tr, p_fc=.50)\n",
    "    locnet_op = tf.nn.bias_add(tf.matmul(locnet_fc2, W), b)\n",
    "\n",
    "    return locnet_op"
   ]
  },
  {
   "cell_type": "markdown",
   "metadata": {},
   "source": [
    "### VGG Layer\n",
    "- n Back to Back **Convolutions** of same Kernel Size and Strides and Padding as specified by the user\n",
    "- 1 **Pooling** Layer.\n",
    "- 1 **Dropout** Layer"
   ]
  },
  {
   "cell_type": "code",
   "execution_count": 20,
   "metadata": {},
   "outputs": [],
   "source": [
    "def VGG_Layer(input_, name, conv_size, n_layers, pool_size, n_o, reg_fac, is_tr, p_vgg):\n",
    "\n",
    "    n_i = input_.get_shape()[-1].value\n",
    "    c_k1 = conv_size\n",
    "    c_k2 = conv_size\n",
    "    p_k1 = pool_size\n",
    "    p_k2 = pool_size\n",
    "\n",
    "    vgg = input_\n",
    "    for i in range(n_layers):\n",
    "        ############## VGG Building Block ###############################\n",
    "        ############## 2 - Conv , 1- Pool 1- Dropout 1 - Batch-Norm ###########\n",
    "        vgg = conv(vgg, name=name + \"conv1_\" + str(i), k1=c_k1,\n",
    "                   k2=c_k2, n_o=n_o, reg_fac=reg_fac, is_tr=is_tr)\n",
    "\n",
    "    vgg = pool(vgg, name=name + \"pool1\", k1=p_k1, k2=p_k2)\n",
    "    vgg = tf.cond(is_tr, lambda: tf.nn.dropout(\n",
    "        vgg, keep_prob=p_vgg), lambda: vgg)\n",
    "    return vgg"
   ]
  },
  {
   "cell_type": "markdown",
   "metadata": {},
   "source": [
    "### Model definition\n",
    "#### Number of Layers:\n",
    "- *3* **VGG** Layers\n",
    "    - First VGG Layer extracts 64 Feature Maps\n",
    "    - Second VGG Layer extracts 128 Feature Maps\n",
    "    - Third VGG Layer extracts 256 Feature Maps\n",
    "- *2* **FC** Layers\n",
    "    - Fully Connected Layers 512 Hidden Units\n",
    "    - To 43 Units dependent on the number of classes\n",
    "\n",
    "#### Reason for Choosing Architecture:\n",
    "- LeNet acrhitecture provides 96.5% test accuracy \n",
    "- To get the extra 2% accuracy on the model."
   ]
  },
  {
   "cell_type": "code",
   "execution_count": 21,
   "metadata": {
    "scrolled": true
   },
   "outputs": [],
   "source": [
    "def run_model(input_, num_classes, params, reg_fac, is_training):\n",
    "\n",
    "    ############## Spatial Transformer Module ######################\n",
    "    ##################### Localization layer #######################\n",
    "    locnet = localization_net(input_, name=\"locnet\",\n",
    "                              reg_fac=reg_fac, is_tr=is_training)\n",
    "    ####################### Affine Transformation Layer ############\n",
    "    stn = transformer(input_, locnet, out_size=(32, 32, 3))\n",
    "    stn_= tf.reshape(stn,(-1,32,32,3))\n",
    "    ################################## VGG Net ###############################\n",
    "    ################################# VGG- Layer - 1 #########################\n",
    "    vgg1 = VGG_Layer(stn_, \"vgg1\", conv_size=3, n_layers=2, pool_size=2, n_o=32,\n",
    "                     reg_fac=reg_fac, is_tr=is_training, p_vgg=params.vgg1)\n",
    "    variable_summaries(vgg1)\n",
    "    ################################# VGG- Layer - 2 #########################\n",
    "    vgg2 = VGG_Layer(vgg1, \"vgg2\", conv_size=3,  n_layers=2, pool_size=2, n_o=64,\n",
    "                     reg_fac=reg_fac, is_tr=is_training, p_vgg=params.vgg2)\n",
    "    variable_summaries(vgg2)\n",
    "    ################################# VGG- Layer - 3 #########################\n",
    "    vgg3 = VGG_Layer(vgg2, \"vgg3\", conv_size=3,  n_layers=3, pool_size=2, n_o=128,\n",
    "                     reg_fac=reg_fac, is_tr=is_training, p_vgg=params.vgg3)\n",
    "    variable_summaries(vgg3)\n",
    "    ################################# VGG- Layer - 4 #########################\n",
    "    vgg4 = VGG_Layer(vgg3, \"vgg4\", conv_size=3,  n_layers=3, pool_size=2, n_o=256,\n",
    "                     reg_fac=reg_fac, is_tr=is_training, p_vgg=params.vgg4)\n",
    "    variable_summaries(vgg4)\n",
    "    ################################ Multi Scale Convolution layer ###########\n",
    "    ms1 = pool(vgg2, \"ms1\", k1=2, k2=2)\n",
    "    ms2 = tf.concat([ms1,vgg3], axis=3)\n",
    "    \n",
    "    ms3 = pool(ms2, \"ms3\", k1=2, k2=2)\n",
    "    ms = tf.concat([ms3, vgg4], axis=3)\n",
    "\n",
    "    \n",
    "    ################## Fully Connected Layers for a Linear Classifier ########\n",
    "    #############################First Fully Connected Layer #################\n",
    "    fc0 = fc(flatten(ms), \"fc0\", 1024, reg_fac=reg_fac,\n",
    "             is_tr=is_training, p_fc=params.fc0)\n",
    "    fc1 = fc(fc0, \"fc1\", 512, reg_fac=reg_fac,\n",
    "             is_tr=is_training, p_fc=params.fc1)\n",
    "    ########################### Output readout Layer #########################\n",
    "    fc2 = fc(fc1, \"fc2\", num_classes, reg_fac=reg_fac,\n",
    "             is_tr=is_training, p_fc=1.0, is_act=False, is_bn=True)\n",
    "\n",
    "    return fc2"
   ]
  },
  {
   "cell_type": "markdown",
   "metadata": {},
   "source": [
    "### Model Building with Hyper_params"
   ]
  },
  {
   "cell_type": "code",
   "execution_count": 22,
   "metadata": {},
   "outputs": [],
   "source": [
    "params = namedtuple('params', 'vgg1 vgg2 vgg3 vgg4 ms fc0 fc1')\n",
    "mdltype = params(vgg1=.5, vgg2=.5, vgg3=.5, vgg4=.5, ms=.5, fc0=.5, fc1=.5)\n",
    "logits = run_model(x, num_classes, mdltype, reg_fac, is_training)\n",
    "tf.summary.histogram('Logits', logits)\n",
    "\n",
    "# For Top 5 Guesses\n",
    "prediction = tf.nn.softmax(logits)\n",
    "top5_guesses = tf.nn.top_k(prediction, k=5, sorted=True)\n",
    "\n",
    "\n",
    "# Predicted Label and Actual Label using Argmax\n",
    "y_pred = tf.argmax(logits, 1)\n",
    "\n",
    "# Accuracy Calculation\n",
    "correct_prediction = tf.equal(y_pred, y)\n",
    "accuracy_operation = tf.reduce_mean(tf.cast(correct_prediction, tf.float32))\n",
    "tf.summary.scalar('Accuracy', accuracy_operation)\n",
    "\n",
    "######### Cross Entropy and Loss for Training ##########\n",
    "cross_entropy = tf.nn.sparse_softmax_cross_entropy_with_logits(\n",
    "    logits=logits, labels=y, name='cross_entropy')\n",
    "loss_operation = tf.reduce_mean(\n",
    "    cross_entropy) + tf.add_n(tf.get_collection(tf.GraphKeys.REGULARIZATION_LOSSES))\n",
    "tf.summary.scalar('Loss', loss_operation)\n",
    "\n",
    "########### Training Step ################\n",
    "Train_Step = tf.train.AdamOptimizer(rate).minimize(loss_operation)\n",
    "summary = tf.summary.merge_all()"
   ]
  },
  {
   "cell_type": "code",
   "execution_count": 23,
   "metadata": {},
   "outputs": [],
   "source": [
    "def evaluate(X_data, y_data, batch_size, is_tr):\n",
    "    num_examples = len(X_data)\n",
    "    total_accuracy = 0\n",
    "    sess = tf.get_default_session()\n",
    "    for offset in range(0, num_examples, batch_size):\n",
    "        bx, by = X_data[offset:offset +\n",
    "                        batch_size], y_data[offset:offset + batch_size]\n",
    "        inputs_ = {x: bx, y: by, is_training: is_tr}\n",
    "        accuracy = sess.run(accuracy_operation, feed_dict=inputs_)\n",
    "        total_accuracy += (accuracy * len(bx))\n",
    "    return total_accuracy / num_examples\n",
    "\n",
    "def plot_confusion_matrix(X_data,y_data, batch_size, is_tr, normalize=True):\n",
    "    num_examples = len(X_data)\n",
    "    sess = tf.get_default_session()\n",
    "    offset=randint(0,num_examples-batch_size)\n",
    "    bx, by = X_data[offset:offset +\n",
    "                    batch_size], y_data[offset:offset + batch_size]\n",
    "    inputs_ = {x: bx, y: by, is_training: is_tr}\n",
    "    cm_input = sess.run(y_pred,feed_dict=inputs_)\n",
    "    cm = confusion_matrix(y_true = by,y_pred = cm_input)\n",
    "    if normalize is True:\n",
    "        cm = np.round(cm.astype('float') / cm.sum(axis=1)[:, np.newaxis],2)\n",
    "    \n",
    "    plt.figure(figsize=(25,25))  \n",
    "    plt.imshow(cm, interpolation='nearest', cmap=plt.cm.Blues)\n",
    "    tick_marks = np.arange(num_classes)\n",
    "    \n",
    "    df=pd.read_csv(\"signnames.csv\")\n",
    "    plt.xticks(range(num_classes), df['SignName'])\n",
    "    plt.yticks(range(num_classes), df['SignName'])\n",
    "    plt.xticks(rotation=90)\n",
    "    plt.xticks(fontsize = 16)\n",
    "    plt.yticks(fontsize = 16)\n",
    "    plt.xlabel('Predicted', fontsize = 24)\n",
    "    plt.ylabel('True', fontsize= 24)\n",
    "    thresh = cm.max() / 2.\n",
    "    for i, j in itertools.product(range(cm.shape[0]), range(cm.shape[1])):\n",
    "        plt.text(j, i, cm[i, j],horizontalalignment=\"center\",\n",
    "                 color=\"white\" if cm[i, j] > thresh else \"black\")\n",
    "    plt.show()"
   ]
  },
  {
   "cell_type": "markdown",
   "metadata": {},
   "source": [
    "### Model Hyper Parameter Definition\n",
    "- The Hyper Parameters are chosen based on search over 5 epochs\n",
    "#### Tuning Methodology\n",
    "- Xavier Initialization\n",
    "- **Early Stopping** - Restore Chkpt if the accuracy gains in validation don't meet requirements\n",
    "- **Hyper Parameter** Search over 5 Epcochs for Initial Tuning Hyper Params for best choice of hyper params \n",
    "    - Batch Sizes-100,200,300,500\n",
    "    - Learning rates- 1e-3,5e-4,4e-4,1e-4\n",
    "    - Regularization factor 1e-5,1e-4, 5e-4\n",
    "- **Learning rate annealing**,  **Batch size increment**, **Increase dropout rate**\n",
    "- **Optimizer** - Adam Optimizer as suggested by https://arxiv.org/abs/1412.6980 and http://sebastianruder.com/optimizing-gradient-descent/index.html#adam"
   ]
  },
  {
   "cell_type": "code",
   "execution_count": 24,
   "metadata": {
    "scrolled": true
   },
   "outputs": [
    {
     "name": "stdout",
     "output_type": "stream",
     "text": [
      "Data and Modules loaded\n",
      "Data and Modules loaded\n",
      "Data and Modules loaded\n"
     ]
    }
   ],
   "source": [
    "training_file = 'train.p'\n",
    "validation_file = 'valid.p'\n",
    "testing_file = 'test.p'\n",
    "X_train,y_train = load_data(training_file)\n",
    "X_valid,y_valid = load_data(validation_file)\n",
    "X_test,y_test = load_data(testing_file)"
   ]
  },
  {
   "cell_type": "code",
   "execution_count": 25,
   "metadata": {},
   "outputs": [],
   "source": [
    "BATCH_SIZE = 500\n",
    "EPOCHS = 50\n",
    "REG_FACTOR = 2e-5\n",
    "RATE = 1e-4\n",
    "save_file = \"VGGNet_29042017\"\n",
    "restore_file =\"VGGNet_29042017\"\n",
    "chkpt = './' + save_file\n",
    "chkpt_restore = './' + restore_file\n",
    "logdir = chkpt + datetime.now().strftime('%Y%m%d-%H%M%S') + '/'\n",
    "is_restore= True"
   ]
  },
  {
   "cell_type": "code",
   "execution_count": 27,
   "metadata": {
    "scrolled": false
   },
   "outputs": [
    {
     "name": "stderr",
     "output_type": "stream",
     "text": [
      "\r",
      "  0%|          | 0/70 [00:00<?, ?it/s]"
     ]
    },
    {
     "name": "stdout",
     "output_type": "stream",
     "text": [
      "Training...\n",
      "\n"
     ]
    },
    {
     "name": "stderr",
     "output_type": "stream",
     "text": [
      "100%|██████████| 70/70 [10:57<00:00,  9.39s/it]\n"
     ]
    },
    {
     "name": "stdout",
     "output_type": "stream",
     "text": [
      "Epochs: 1\n",
      "Training_Loss: 3.6923269967915817\n",
      "Validation_Accuracy: 0.04875283472054129\n",
      "Intermediate Model Save\n"
     ]
    },
    {
     "name": "stderr",
     "output_type": "stream",
     "text": [
      "100%|██████████| 70/70 [07:57<00:00,  6.82s/it]\n",
      "  0%|          | 0/70 [00:00<?, ?it/s]"
     ]
    },
    {
     "name": "stdout",
     "output_type": "stream",
     "text": [
      "Epochs: 2\n",
      "Training_Loss: 3.555320555905014\n",
      "Validation_Accuracy: 0.04580498979766927\n"
     ]
    },
    {
     "name": "stderr",
     "output_type": "stream",
     "text": [
      "100%|██████████| 70/70 [10:15<00:00,  8.79s/it]\n"
     ]
    },
    {
     "name": "stdout",
     "output_type": "stream",
     "text": [
      "Epochs: 3\n",
      "Training_Loss: 3.5115666589591963\n",
      "Validation_Accuracy: 0.05192743875656505\n",
      "Intermediate Model Save\n"
     ]
    },
    {
     "name": "stderr",
     "output_type": "stream",
     "text": [
      " 23%|██▎       | 16/70 [02:36<08:48,  9.78s/it]"
     ]
    },
    {
     "ename": "KeyboardInterrupt",
     "evalue": "",
     "output_type": "error",
     "traceback": [
      "\u001b[0;31m---------------------------------------------------------------------------\u001b[0m",
      "\u001b[0;31mKeyboardInterrupt\u001b[0m                         Traceback (most recent call last)",
      "\u001b[0;32m<ipython-input-27-81f027ed2293>\u001b[0m in \u001b[0;36m<module>\u001b[0;34m()\u001b[0m\n\u001b[1;32m     21\u001b[0m             inputs = {x: batch_x, y: batch_y, reg_fac: REG_FACTOR,\n\u001b[1;32m     22\u001b[0m                       rate: RATE, is_training: True}\n\u001b[0;32m---> 23\u001b[0;31m             \u001b[0mloss\u001b[0m\u001b[0;34m,\u001b[0m \u001b[0m_\u001b[0m \u001b[0;34m=\u001b[0m \u001b[0msess\u001b[0m\u001b[0;34m.\u001b[0m\u001b[0mrun\u001b[0m\u001b[0;34m(\u001b[0m\u001b[0;34m[\u001b[0m\u001b[0mloss_operation\u001b[0m\u001b[0;34m,\u001b[0m \u001b[0mTrain_Step\u001b[0m\u001b[0;34m]\u001b[0m\u001b[0;34m,\u001b[0m \u001b[0mfeed_dict\u001b[0m\u001b[0;34m=\u001b[0m\u001b[0minputs\u001b[0m\u001b[0;34m)\u001b[0m\u001b[0;34m\u001b[0m\u001b[0m\n\u001b[0m\u001b[1;32m     24\u001b[0m             \u001b[0mTraining_loss\u001b[0m \u001b[0;34m+=\u001b[0m \u001b[0;34m(\u001b[0m\u001b[0mloss\u001b[0m \u001b[0;34m*\u001b[0m \u001b[0mlen\u001b[0m\u001b[0;34m(\u001b[0m\u001b[0mbatch_x\u001b[0m\u001b[0;34m)\u001b[0m\u001b[0;34m)\u001b[0m\u001b[0;34m\u001b[0m\u001b[0m\n\u001b[1;32m     25\u001b[0m \u001b[0;34m\u001b[0m\u001b[0m\n",
      "\u001b[0;32m~/.pyenv/versions/3.6.5/lib/python3.6/site-packages/tensorflow/python/client/session.py\u001b[0m in \u001b[0;36mrun\u001b[0;34m(self, fetches, feed_dict, options, run_metadata)\u001b[0m\n\u001b[1;32m    927\u001b[0m     \u001b[0;32mtry\u001b[0m\u001b[0;34m:\u001b[0m\u001b[0;34m\u001b[0m\u001b[0m\n\u001b[1;32m    928\u001b[0m       result = self._run(None, fetches, feed_dict, options_ptr,\n\u001b[0;32m--> 929\u001b[0;31m                          run_metadata_ptr)\n\u001b[0m\u001b[1;32m    930\u001b[0m       \u001b[0;32mif\u001b[0m \u001b[0mrun_metadata\u001b[0m\u001b[0;34m:\u001b[0m\u001b[0;34m\u001b[0m\u001b[0m\n\u001b[1;32m    931\u001b[0m         \u001b[0mproto_data\u001b[0m \u001b[0;34m=\u001b[0m \u001b[0mtf_session\u001b[0m\u001b[0;34m.\u001b[0m\u001b[0mTF_GetBuffer\u001b[0m\u001b[0;34m(\u001b[0m\u001b[0mrun_metadata_ptr\u001b[0m\u001b[0;34m)\u001b[0m\u001b[0;34m\u001b[0m\u001b[0m\n",
      "\u001b[0;32m~/.pyenv/versions/3.6.5/lib/python3.6/site-packages/tensorflow/python/client/session.py\u001b[0m in \u001b[0;36m_run\u001b[0;34m(self, handle, fetches, feed_dict, options, run_metadata)\u001b[0m\n\u001b[1;32m   1150\u001b[0m     \u001b[0;32mif\u001b[0m \u001b[0mfinal_fetches\u001b[0m \u001b[0;32mor\u001b[0m \u001b[0mfinal_targets\u001b[0m \u001b[0;32mor\u001b[0m \u001b[0;34m(\u001b[0m\u001b[0mhandle\u001b[0m \u001b[0;32mand\u001b[0m \u001b[0mfeed_dict_tensor\u001b[0m\u001b[0;34m)\u001b[0m\u001b[0;34m:\u001b[0m\u001b[0;34m\u001b[0m\u001b[0m\n\u001b[1;32m   1151\u001b[0m       results = self._do_run(handle, final_targets, final_fetches,\n\u001b[0;32m-> 1152\u001b[0;31m                              feed_dict_tensor, options, run_metadata)\n\u001b[0m\u001b[1;32m   1153\u001b[0m     \u001b[0;32melse\u001b[0m\u001b[0;34m:\u001b[0m\u001b[0;34m\u001b[0m\u001b[0m\n\u001b[1;32m   1154\u001b[0m       \u001b[0mresults\u001b[0m \u001b[0;34m=\u001b[0m \u001b[0;34m[\u001b[0m\u001b[0;34m]\u001b[0m\u001b[0;34m\u001b[0m\u001b[0m\n",
      "\u001b[0;32m~/.pyenv/versions/3.6.5/lib/python3.6/site-packages/tensorflow/python/client/session.py\u001b[0m in \u001b[0;36m_do_run\u001b[0;34m(self, handle, target_list, fetch_list, feed_dict, options, run_metadata)\u001b[0m\n\u001b[1;32m   1326\u001b[0m     \u001b[0;32mif\u001b[0m \u001b[0mhandle\u001b[0m \u001b[0;32mis\u001b[0m \u001b[0;32mNone\u001b[0m\u001b[0;34m:\u001b[0m\u001b[0;34m\u001b[0m\u001b[0m\n\u001b[1;32m   1327\u001b[0m       return self._do_call(_run_fn, feeds, fetches, targets, options,\n\u001b[0;32m-> 1328\u001b[0;31m                            run_metadata)\n\u001b[0m\u001b[1;32m   1329\u001b[0m     \u001b[0;32melse\u001b[0m\u001b[0;34m:\u001b[0m\u001b[0;34m\u001b[0m\u001b[0m\n\u001b[1;32m   1330\u001b[0m       \u001b[0;32mreturn\u001b[0m \u001b[0mself\u001b[0m\u001b[0;34m.\u001b[0m\u001b[0m_do_call\u001b[0m\u001b[0;34m(\u001b[0m\u001b[0m_prun_fn\u001b[0m\u001b[0;34m,\u001b[0m \u001b[0mhandle\u001b[0m\u001b[0;34m,\u001b[0m \u001b[0mfeeds\u001b[0m\u001b[0;34m,\u001b[0m \u001b[0mfetches\u001b[0m\u001b[0;34m)\u001b[0m\u001b[0;34m\u001b[0m\u001b[0m\n",
      "\u001b[0;32m~/.pyenv/versions/3.6.5/lib/python3.6/site-packages/tensorflow/python/client/session.py\u001b[0m in \u001b[0;36m_do_call\u001b[0;34m(self, fn, *args)\u001b[0m\n\u001b[1;32m   1332\u001b[0m   \u001b[0;32mdef\u001b[0m \u001b[0m_do_call\u001b[0m\u001b[0;34m(\u001b[0m\u001b[0mself\u001b[0m\u001b[0;34m,\u001b[0m \u001b[0mfn\u001b[0m\u001b[0;34m,\u001b[0m \u001b[0;34m*\u001b[0m\u001b[0margs\u001b[0m\u001b[0;34m)\u001b[0m\u001b[0;34m:\u001b[0m\u001b[0;34m\u001b[0m\u001b[0m\n\u001b[1;32m   1333\u001b[0m     \u001b[0;32mtry\u001b[0m\u001b[0;34m:\u001b[0m\u001b[0;34m\u001b[0m\u001b[0m\n\u001b[0;32m-> 1334\u001b[0;31m       \u001b[0;32mreturn\u001b[0m \u001b[0mfn\u001b[0m\u001b[0;34m(\u001b[0m\u001b[0;34m*\u001b[0m\u001b[0margs\u001b[0m\u001b[0;34m)\u001b[0m\u001b[0;34m\u001b[0m\u001b[0m\n\u001b[0m\u001b[1;32m   1335\u001b[0m     \u001b[0;32mexcept\u001b[0m \u001b[0merrors\u001b[0m\u001b[0;34m.\u001b[0m\u001b[0mOpError\u001b[0m \u001b[0;32mas\u001b[0m \u001b[0me\u001b[0m\u001b[0;34m:\u001b[0m\u001b[0;34m\u001b[0m\u001b[0m\n\u001b[1;32m   1336\u001b[0m       \u001b[0mmessage\u001b[0m \u001b[0;34m=\u001b[0m \u001b[0mcompat\u001b[0m\u001b[0;34m.\u001b[0m\u001b[0mas_text\u001b[0m\u001b[0;34m(\u001b[0m\u001b[0me\u001b[0m\u001b[0;34m.\u001b[0m\u001b[0mmessage\u001b[0m\u001b[0;34m)\u001b[0m\u001b[0;34m\u001b[0m\u001b[0m\n",
      "\u001b[0;32m~/.pyenv/versions/3.6.5/lib/python3.6/site-packages/tensorflow/python/client/session.py\u001b[0m in \u001b[0;36m_run_fn\u001b[0;34m(feed_dict, fetch_list, target_list, options, run_metadata)\u001b[0m\n\u001b[1;32m   1317\u001b[0m       \u001b[0mself\u001b[0m\u001b[0;34m.\u001b[0m\u001b[0m_extend_graph\u001b[0m\u001b[0;34m(\u001b[0m\u001b[0;34m)\u001b[0m\u001b[0;34m\u001b[0m\u001b[0m\n\u001b[1;32m   1318\u001b[0m       return self._call_tf_sessionrun(\n\u001b[0;32m-> 1319\u001b[0;31m           options, feed_dict, fetch_list, target_list, run_metadata)\n\u001b[0m\u001b[1;32m   1320\u001b[0m \u001b[0;34m\u001b[0m\u001b[0m\n\u001b[1;32m   1321\u001b[0m     \u001b[0;32mdef\u001b[0m \u001b[0m_prun_fn\u001b[0m\u001b[0;34m(\u001b[0m\u001b[0mhandle\u001b[0m\u001b[0;34m,\u001b[0m \u001b[0mfeed_dict\u001b[0m\u001b[0;34m,\u001b[0m \u001b[0mfetch_list\u001b[0m\u001b[0;34m)\u001b[0m\u001b[0;34m:\u001b[0m\u001b[0;34m\u001b[0m\u001b[0m\n",
      "\u001b[0;32m~/.pyenv/versions/3.6.5/lib/python3.6/site-packages/tensorflow/python/client/session.py\u001b[0m in \u001b[0;36m_call_tf_sessionrun\u001b[0;34m(self, options, feed_dict, fetch_list, target_list, run_metadata)\u001b[0m\n\u001b[1;32m   1405\u001b[0m     return tf_session.TF_SessionRun_wrapper(\n\u001b[1;32m   1406\u001b[0m         \u001b[0mself\u001b[0m\u001b[0;34m.\u001b[0m\u001b[0m_session\u001b[0m\u001b[0;34m,\u001b[0m \u001b[0moptions\u001b[0m\u001b[0;34m,\u001b[0m \u001b[0mfeed_dict\u001b[0m\u001b[0;34m,\u001b[0m \u001b[0mfetch_list\u001b[0m\u001b[0;34m,\u001b[0m \u001b[0mtarget_list\u001b[0m\u001b[0;34m,\u001b[0m\u001b[0;34m\u001b[0m\u001b[0m\n\u001b[0;32m-> 1407\u001b[0;31m         run_metadata)\n\u001b[0m\u001b[1;32m   1408\u001b[0m \u001b[0;34m\u001b[0m\u001b[0m\n\u001b[1;32m   1409\u001b[0m   \u001b[0;32mdef\u001b[0m \u001b[0m_call_tf_sessionprun\u001b[0m\u001b[0;34m(\u001b[0m\u001b[0mself\u001b[0m\u001b[0;34m,\u001b[0m \u001b[0mhandle\u001b[0m\u001b[0;34m,\u001b[0m \u001b[0mfeed_dict\u001b[0m\u001b[0;34m,\u001b[0m \u001b[0mfetch_list\u001b[0m\u001b[0;34m)\u001b[0m\u001b[0;34m:\u001b[0m\u001b[0;34m\u001b[0m\u001b[0m\n",
      "\u001b[0;31mKeyboardInterrupt\u001b[0m: "
     ]
    }
   ],
   "source": [
    "init = tf.global_variables_initializer()\n",
    "saver = tf.train.Saver()\n",
    "sess = tf.Session()\n",
    "with sess.as_default():\n",
    "    sess.run(init)\n",
    "    ##################  Start Model Training  #######################\n",
    "#     if is_restore:\n",
    "#         saver.restore(sess,chkpt_restore)\n",
    "    summary_writer = tf.summary.FileWriter(logdir, sess.graph)\n",
    "    print(\"Training...\")\n",
    "    print()\n",
    "    val_acc = []\n",
    "    for i in range(EPOCHS):\n",
    "        \n",
    "        ############ Training Operation ################\n",
    "        Training_loss = 0\n",
    "        X_train, y_train = shuffle(X_train, y_train)\n",
    "        for offset in trange(0, len(X_train), BATCH_SIZE):\n",
    "            end = offset + BATCH_SIZE\n",
    "            batch_x, batch_y = X_train[offset:end], y_train[offset:end]\n",
    "            inputs = {x: batch_x, y: batch_y, reg_fac: REG_FACTOR,\n",
    "                      rate: RATE, is_training: True}\n",
    "            loss, _ = sess.run([loss_operation, Train_Step], feed_dict=inputs)\n",
    "            Training_loss += (loss * len(batch_x))\n",
    "\n",
    "        ################ Evaluation operation ####################\n",
    "        Validation_Accuracy = evaluate(X_valid, y_valid, 1000, is_tr=False)\n",
    "        val_acc.append(Validation_Accuracy)\n",
    "        Training_loss /= len(X_train)\n",
    "        print(\"Epochs:\", i + 1)\n",
    "        print(\"Training_Loss:\", Training_loss)\n",
    "        print(\"Validation_Accuracy:\", Validation_Accuracy)\n",
    "        \n",
    "        \n",
    "        ##### Save Model if the Validation accuracy gets better\n",
    "        if (max(val_acc) == Validation_Accuracy):\n",
    "            saver.save(sess, chkpt)\n",
    "            print(\"Intermediate Model Save\")\n",
    "            summary_str = sess.run(summary, feed_dict=inputs)\n",
    "            summary_writer.add_summary(summary_str, i)\n",
    "            \n",
    "print(\"Model saved\")"
   ]
  },
  {
   "cell_type": "markdown",
   "metadata": {},
   "source": [
    "### Train, Validate and Test the Model"
   ]
  },
  {
   "cell_type": "markdown",
   "metadata": {},
   "source": [
    "A validation set can be used to assess how well the model is performing. A low accuracy on the training and validation\n",
    "sets imply underfitting. A high accuracy on the training set but low accuracy on the validation set implies overfitting."
   ]
  },
  {
   "cell_type": "markdown",
   "metadata": {},
   "source": [
    "###  Confusion Matrix to understand Confusion between classes "
   ]
  },
  {
   "cell_type": "markdown",
   "metadata": {},
   "source": [
    "Plot a confusion matrix on a random batch of size to understand confusion between classes in the model"
   ]
  },
  {
   "cell_type": "code",
   "execution_count": null,
   "metadata": {
    "scrolled": false
   },
   "outputs": [],
   "source": [
    "from sklearn.metrics import classification_report\n",
    "from sklearn.metrics import confusion_matrix\n",
    "saver=tf.train.Saver()\n",
    "with tf.Session() as sess:\n",
    "    saver.restore(sess,chkpt)\n",
    "    test_accuracy = evaluate(X_test, y_test, 500, False)\n",
    "    plot_confusion_matrix(X_test, y_test, 2000, False)\n",
    "    print(\"Test Accuracy = {:.3f}\".format(test_accuracy))"
   ]
  },
  {
   "cell_type": "markdown",
   "metadata": {},
   "source": [
    "- The **confusion matrix** helps us understand the confusion between signs as far as classification is concerned. \n",
    "- The confusion matrix is **sparse** when \n",
    "    - The classifier **differentiates** between features of each class \n",
    "    - The slope of the line is **1** - only elements along the diagonal get populated if the predictions match with the actual\n",
    "\n",
    "> **98.7** Accuracy over Test Set \n",
    "\n",
    "### Some Observations in the test results \n",
    "- The over all test accuracy is 98.6 % hence the number of incorrect images are 176 out of 12630.\n",
    "- To dig deeper into where the predictions went wrong and why we get into the confusion matrix.\n",
    "- In the confusion matrix we see that the Class **Slippery Road** causes confusion to the classifier. \n",
    "- It predicts ** Beware of Snow/Ice** ( 89% ) in a random sample of 2000  and ** Pedestrians** (92%) in a random sample of 2000 as slippery road. \n",
    "- To understand the sample Distribution we plot the un-normalized random distribution"
   ]
  },
  {
   "cell_type": "markdown",
   "metadata": {},
   "source": [
    "### Un-normalized confusion matrix\n",
    "- The random unnormalized confusion matrix provides details into the accuracy of prediction and the class imbalance. \n",
    "- The ones that the classifier got wrong are ** Beware of Snow/Ice** ( 89% ) in a random sample of 2000  and ** Pedestrians** (92%). When we look into the number of samples "
   ]
  },
  {
   "cell_type": "code",
   "execution_count": null,
   "metadata": {},
   "outputs": [],
   "source": [
    "saver=tf.train.Saver()\n",
    "with tf.Session() as sess:\n",
    "    saver.restore(sess,chkpt)\n",
    "    plot_confusion_matrix(X_test,y_test, 2000, is_tr= False, normalize=False)"
   ]
  },
  {
   "cell_type": "markdown",
   "metadata": {},
   "source": [
    "### Real World Scenario "
   ]
  },
  {
   "cell_type": "code",
   "execution_count": null,
   "metadata": {},
   "outputs": [],
   "source": [
    "import matplotlib.gridspec as gridspec\n",
    "from skimage import exposure\n",
    "from skimage import img_as_ubyte\n",
    "from skimage import img_as_float\n",
    "import matplotlib.pyplot as plt\n",
    "import cv2\n",
    "import numpy as np\n",
    "import os\n",
    "import argparse\n",
    "import importlib\n",
    "import PreProcessing\n",
    "importlib.reload(PreProcessing)\n",
    "from PreProcessing import visualize_predictions, image_normalizer, images_show\n",
    "from tensorflow.python.framework import graph_util"
   ]
  },
  {
   "cell_type": "code",
   "execution_count": null,
   "metadata": {},
   "outputs": [],
   "source": [
    "###### Load Model and Open \n",
    "def run_model(X_,image_names):\n",
    "    saver=tf.train.Saver()\n",
    "    with tf.Session() as sess:\n",
    "        saver.restore(sess, tf.train.latest_checkpoint('.'))\n",
    "        total_pred,top5_pred = sess.run([prediction,top5_guesses], feed_dict={x:X_,is_training: False})\n",
    "    return total_pred, top5_pred\n",
    "\n",
    "def test_classifier(img_path):\n",
    "\n",
    "    Images = [image_normalizer(cv2.imread(img_path+name,1)) for name in os.listdir(img_path) if (name.endswith('.png')  or name.endswith('.jpg'))]\n",
    "    FileNames = [name for name in os.listdir(img_path) if ( name.endswith('.png') or name.endswith('.jpg') )]\n",
    "    Images_ = img_as_float(Images)\n",
    "    print(\"Processed Images\")\n",
    "    images_show(Images_,1,len(FileNames),rand=False)\n",
    "    total_pred, top5_pred = run_model(Images_,FileNames)\n",
    "    visualize_predictions(Images_,FileNames,total_pred, top5_pred)\n"
   ]
  },
  {
   "cell_type": "markdown",
   "metadata": {},
   "source": [
    "---\n",
    "\n",
    "## Step 3: Test a Model on New Images\n",
    "\n",
    "To give yourself more insight into how your model is working, download at least five pictures of German traffic signs from the web and use your model to predict the traffic sign type.\n",
    "\n",
    "You may find `signnames.csv` useful as it contains mappings from the class id (integer) to the actual sign name."
   ]
  },
  {
   "cell_type": "markdown",
   "metadata": {},
   "source": [
    "### Load and Output the Images\n",
    "### Predict the Sign Type for Each Image\n",
    "- **Types of Images**\n",
    "    - The signs set consist of a few kinds of challenges for the classifier\n",
    "    - Color changed Turn Left ahead \n",
    "    - Multi Sign \n",
    "        - No vehicles ahead with a sign that has some writing below but the writing isn't a part of the 43 classes\n",
    "    - **Elderly Crossing sign** that looks similar to Children crossing but is not in the GTSRB\n",
    "    - A Slightly Rotated **General Caution** Sign \n",
    "    - A **Slippery Road** and **Snow Caution** Sign in the same picture\n",
    "    - A simple **Children Crossing Sign** etc. \n",
    "\n",
    "- The Softmax probabilities are normalized . I.e The logistic regression output from the classifier is activated with a softmax function that ouputs a set of probabilities. These are normalized and plotted (0-1)\n",
    "\n",
    "- The top 5 guesses are plotted in the neighbouring bar chart and it is for readability and is not normalized. "
   ]
  },
  {
   "cell_type": "code",
   "execution_count": null,
   "metadata": {
    "scrolled": false
   },
   "outputs": [],
   "source": [
    "### Define Path of Test Images\n",
    "image_path =\"./Test_images/\"\n",
    "test_classifier(image_path)"
   ]
  },
  {
   "cell_type": "markdown",
   "metadata": {},
   "source": [
    "### Observations \n",
    "\n",
    "### Key Strengths\n",
    "- Since the challenge to classify image is not so high our model even predicts the images that are not a part of the GTSRB quite intuitively . For Example - Elderly Crossing Looks a lot like children's crossing and the model does a good job predicting it. \n",
    "- Color invariance is quite well established , the prediction of turn left ahead works well. \n",
    "\n",
    "### Areas of improvement \n",
    "- For images that aren't 32x32x3 the resize method's order determines how accurate the prediction is . ( Cubic Spline, BiLinear, etc.) The resize method has the tendency to destroy the aspect ratios in the image that causes deterioration in the performance of the model. \n",
    "\n",
    "- The mean centering of images causes a line to appear on the sides of the image while displaying it but does not interfere with the performance of the model itself. "
   ]
  },
  {
   "cell_type": "markdown",
   "metadata": {},
   "source": [
    "---\n",
    "\n",
    "## Step 4: Visualize the Neural Network's State with Test Images\n",
    "\n",
    " This Section is not required to complete but acts as an additional excersise for understaning the output of a neural network's weights. While neural networks can be a great learning device they are often referred to as a black box. We can understand what the weights of a neural network look like better by plotting their feature maps. After successfully training your neural network you can see what it's feature maps look like by plotting the output of the network's weight layers in response to a test stimuli image. From these plotted feature maps, it's possible to see what characteristics of an image the network finds interesting. For a sign, maybe the inner network feature maps react with high activation to the sign's boundary outline or to the contrast in the sign's painted symbol.\n",
    "\n",
    " Provided for you below is the function code that allows you to get the visualization output of any tensorflow weight layer you want. The inputs to the function should be a stimuli image, one used during training or a new one you provided, and then the tensorflow variable name that represents the layer's state during the training process, for instance if you wanted to see what the [LeNet lab's](https://classroom.udacity.com/nanodegrees/nd013/parts/fbf77062-5703-404e-b60c-95b78b2f3f9e/modules/6df7ae49-c61c-4bb2-a23e-6527e69209ec/lessons/601ae704-1035-4287-8b11-e2c2716217ad/concepts/d4aca031-508f-4e0b-b493-e7b706120f81) feature maps looked like for it's second convolutional layer you could enter conv2 as the tf_activation variable.\n",
    "\n",
    "For an example of what feature map outputs look like, check out NVIDIA's results in their paper [End-to-End Deep Learning for Self-Driving Cars](https://devblogs.nvidia.com/parallelforall/deep-learning-self-driving-cars/) in the section Visualization of internal CNN State. NVIDIA was able to show that their network's inner weights had high activations to road boundary lines by comparing feature maps from an image with a clear path to one without. Try experimenting with a similar test to show that your trained network's weights are looking for interesting features, whether it's looking at differences in feature maps from images with or without a sign, or even what feature maps look like in a trained network vs a completely untrained one on the same sign image.\n",
    "\n",
    "<figure>\n",
    " <img src=\"visualize_cnn.png\" width=\"380\" alt=\"Combined Image\" />\n",
    " <figcaption>\n",
    " <p></p> \n",
    " <p style=\"text-align: center;\"> Your output should look something like this (above)</p> \n",
    " </figcaption>\n",
    "</figure>\n",
    " <p></p> \n"
   ]
  },
  {
   "cell_type": "code",
   "execution_count": null,
   "metadata": {},
   "outputs": [],
   "source": [
    "### Visualize your network's feature maps here.\n",
    "### Feel free to use as many code cells as needed.\n",
    "\n",
    "# image_input: the test image being fed into the network to produce the feature maps\n",
    "# tf_activation: should be a tf variable name used during your training procedure that represents the calculated state of a specific weight layer\n",
    "# activation_min/max: can be used to view the activation contrast in more detail, by default matplot sets min and max to the actual min and max values of the output\n",
    "# plt_num: used to plot out multiple different weight feature map sets on the same block, just extend the plt number for each new feature map entry\n",
    "\n",
    "def outputFeatureMap(image_input, tf_activation, chkpt, activation_min=-1, activation_max=-1 ,plt_num=1):\n",
    "    # Here make sure to preprocess your image_input in a way your network expects\n",
    "    # with size, normalization, ect if needed\n",
    "    # image_input =\n",
    "    # Note: x should be the same name as your network's tensorflow data placeholder variable\n",
    "    # If you get an error tf_activation is not defined it maybe having trouble accessing the variable from inside a function\n",
    "    saver=tf.train.Saver()\n",
    "    with tf.Session() as sess:\n",
    "        saver.restore(sess, chkpt)\n",
    "        image_reshape=np.expand_dims(image_input,axis=0)\n",
    "        activation_ = tf.get_default_graph().get_tensor_by_name(tf_activation)\n",
    "        activation = activation_.eval(session=sess,feed_dict={x : image_reshape,is_training: False })\n",
    "        featuremaps = activation.shape[3]\n",
    "        plt.figure(plt_num, figsize=(20,15))\n",
    "        for featuremap in range(featuremaps):\n",
    "            plt.subplot(8,8, featuremap+1) # sets the number of feature maps to show on each row and column\n",
    "            plt.title('FeatureMap ' + str(featuremap)) # displays the feature map number\n",
    "            if activation_min != -1 & activation_max != -1:\n",
    "                plt.imshow(activation[0,:,:, featuremap], interpolation=\"nearest\", vmin =activation_min, vmax=activation_max, cmap=\"gray\")\n",
    "            elif activation_max != -1:\n",
    "                plt.imshow(activation[0,:,:, featuremap], interpolation=\"nearest\", vmax=activation_max, cmap=\"gray\")\n",
    "            elif activation_min !=-1:\n",
    "                plt.imshow(activation[0,:,:, featuremap], interpolation=\"nearest\", vmin=activation_min, cmap=\"gray\")\n",
    "            else:\n",
    "                plt.imshow(activation[0,:,:, featuremap], interpolation=\"nearest\", cmap=\"gray\")\n",
    "            "
   ]
  },
  {
   "cell_type": "code",
   "execution_count": null,
   "metadata": {},
   "outputs": [],
   "source": [
    "image_path='./Test_images/DoubleSign.jpg'\n",
    "image=image_normalizer(cv2.imread(image_path))\n",
    "outputFeatureMap(image,\"vgg1pool1:0\",chkpt)"
   ]
  },
  {
   "cell_type": "markdown",
   "metadata": {},
   "source": [
    "### Question 9\n",
    "Discuss how you used the visual output of your trained network's feature maps to show that it had learned to look for interesting characteristics in traffic sign images\n",
    "\n",
    "### Answer \n",
    "> The visual representation was particularly useful to get information on the way the **spatial transformer** is tuned during the beginning of the training. The output of the Spatial transformer was visualized to see the performance of STN. If it was capable of zooming, rotating the distorted image making it easier for the convolutional network to recognize images. "
   ]
  }
 ],
 "metadata": {
  "anaconda-cloud": {},
  "kernelspec": {
   "display_name": "Python 3",
   "language": "python",
   "name": "python3"
  },
  "language_info": {
   "codemirror_mode": {
    "name": "ipython",
    "version": 3
   },
   "file_extension": ".py",
   "mimetype": "text/x-python",
   "name": "python",
   "nbconvert_exporter": "python",
   "pygments_lexer": "ipython3",
   "version": "3.6.5"
  },
  "widgets": {
   "state": {},
   "version": "1.1.2"
  }
 },
 "nbformat": 4,
 "nbformat_minor": 1
}
